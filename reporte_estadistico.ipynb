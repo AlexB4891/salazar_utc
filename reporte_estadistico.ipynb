{
 "cells": [
  {
   "cell_type": "markdown",
   "metadata": {},
   "source": [
    "# Reporte estadístico de los resultados de una encuesta\n",
    "__Autor:__ Alex Bajaña\n",
    "__Tema:__ La Responsabilidad Social Empresarial en la Seguridad y Salud en el Trabajo\n",
    "__Fecha de elaboración:__ Noviembre 11, 2023\n",
    "\n",
    "Un producto del Centro de Investigación Estadística ERGOSTATS"
   ]
  },
  {
   "cell_type": "code",
   "execution_count": null,
   "metadata": {},
   "outputs": [],
   "source": [
    "%run -n analisis.py"
   ]
  },
  {
   "cell_type": "code",
   "execution_count": null,
   "metadata": {},
   "outputs": [],
   "source": [
    "df.columns"
   ]
  },
  {
   "cell_type": "markdown",
   "metadata": {},
   "source": [
    "## Conocimiento de normas y estandares contra aplicación de prácticas responsables\n",
    "\n",
    "- Preguntas 2 y 3"
   ]
  },
  {
   "cell_type": "code",
   "execution_count": null,
   "metadata": {},
   "outputs": [],
   "source": [
    "print(df.columns[3],\"\\n\",df.columns[4])"
   ]
  },
  {
   "cell_type": "code",
   "execution_count": null,
   "metadata": {},
   "outputs": [],
   "source": [
    "contingency_table = contingency_table_analysis(df, df.columns[3], df.columns[4])\n",
    "\n",
    "heat_plot(df, df.columns[3], df.columns[4])"
   ]
  },
  {
   "cell_type": "code",
   "execution_count": null,
   "metadata": {},
   "outputs": [],
   "source": [
    "p = print_contingency_table(contingency_table)"
   ]
  },
  {
   "cell_type": "markdown",
   "metadata": {},
   "source": [
    "La relación entre estas variables es estadísticamente siginificativa."
   ]
  },
  {
   "cell_type": "markdown",
   "metadata": {},
   "source": [
    "## Conocimiento de normas y estandares contra planificación de la responsabilidad social en la construcción de puentes\n",
    "\n",
    "- Preguntas 3 y 7"
   ]
  },
  {
   "cell_type": "code",
   "execution_count": null,
   "metadata": {},
   "outputs": [],
   "source": [
    "print(df.columns[4],\"\\n\",df.columns[8])"
   ]
  },
  {
   "cell_type": "code",
   "execution_count": null,
   "metadata": {},
   "outputs": [],
   "source": [
    "contingency_table = contingency_table_analysis(df, df.columns[4], df.columns[8])\n",
    "\n",
    "heat_plot(df, df.columns[4], df.columns[8])"
   ]
  },
  {
   "cell_type": "code",
   "execution_count": null,
   "metadata": {},
   "outputs": [],
   "source": [
    "p = print_contingency_table(contingency_table)"
   ]
  },
  {
   "cell_type": "markdown",
   "metadata": {},
   "source": [
    "La relación entre estas variables es estadísticamente siginificativa."
   ]
  },
  {
   "cell_type": "markdown",
   "metadata": {},
   "source": [
    "## Conocimiento actualizado sobre tendencias y regulaciones de seguridad y responsabilidad social y la aplicación de prácticas\n",
    "\n",
    "- Preguntas 4 y 2"
   ]
  },
  {
   "cell_type": "code",
   "execution_count": 40,
   "metadata": {},
   "outputs": [
    {
     "name": "stdout",
     "output_type": "stream",
     "text": [
      "4.-¿La empresa se mantiene actualizada en seguridad y responsabilidad social en cuanto a las tendencias y las regulaciones de la industria en construcción de puentes ? \n",
      " 2.-¿La empresa aplica la responsabilidad social y ambiental con seguridad laboral en el proceso de la construcción de puentes y vías?\n"
     ]
    }
   ],
   "source": [
    "print(df.columns[5],\"\\n\",df.columns[3])"
   ]
  },
  {
   "cell_type": "code",
   "execution_count": null,
   "metadata": {},
   "outputs": [],
   "source": [
    "contingency_table = contingency_table_analysis(df, df.columns[5], df.columns[3])\n",
    "\n",
    "heat_plot(df, df.columns[5], df.columns[3])"
   ]
  },
  {
   "cell_type": "code",
   "execution_count": null,
   "metadata": {},
   "outputs": [],
   "source": [
    "p = print_contingency_table(contingency_table)"
   ]
  },
  {
   "cell_type": "markdown",
   "metadata": {},
   "source": [
    "La relación entre estas variables es estadísticamente siginificativa."
   ]
  },
  {
   "cell_type": "markdown",
   "metadata": {},
   "source": [
    "## Evaluación de avance y conocimientos actualizados\n",
    "\n",
    "- Preguntas 5 y 4"
   ]
  },
  {
   "cell_type": "code",
   "execution_count": 41,
   "metadata": {},
   "outputs": [
    {
     "name": "stdout",
     "output_type": "stream",
     "text": [
      "5.-¿Se realiza una evaluación periódica de los avances en materia de seguridad laboral y responsabilidad social en la construcción en su empresa? \n",
      " 4.-¿La empresa se mantiene actualizada en seguridad y responsabilidad social en cuanto a las tendencias y las regulaciones de la industria en construcción de puentes ?\n"
     ]
    }
   ],
   "source": [
    "print(df.columns[6],\"\\n\",df.columns[5])"
   ]
  },
  {
   "cell_type": "code",
   "execution_count": null,
   "metadata": {},
   "outputs": [],
   "source": [
    "contingency_table = contingency_table_analysis(df, df.columns[6], df.columns[5])\n",
    "\n",
    "heat_plot(df, df.columns[6], df.columns[5])"
   ]
  },
  {
   "cell_type": "code",
   "execution_count": null,
   "metadata": {},
   "outputs": [],
   "source": [
    "p = print_contingency_table(contingency_table)"
   ]
  },
  {
   "cell_type": "markdown",
   "metadata": {},
   "source": [
    "La relación entre estas variables es estadísticamente siginificativa."
   ]
  },
  {
   "cell_type": "markdown",
   "metadata": {},
   "source": [
    "## Evaluaciones periodicas y cuidado de la empresa hacía sus trabajadores\n",
    "\n",
    "- Preguntas 5 y 12"
   ]
  },
  {
   "cell_type": "code",
   "execution_count": 42,
   "metadata": {},
   "outputs": [
    {
     "name": "stdout",
     "output_type": "stream",
     "text": [
      "5.-¿Se realiza una evaluación periódica de los avances en materia de seguridad laboral y responsabilidad social en la construcción en su empresa? \n",
      " 12.-¿La empresa cuida la integridad física, mental y emocional de sus colaboradores?\n"
     ]
    }
   ],
   "source": [
    "print(df.columns[6],\"\\n\",df.columns[13])"
   ]
  },
  {
   "cell_type": "code",
   "execution_count": null,
   "metadata": {},
   "outputs": [],
   "source": [
    "contingency_table = contingency_table_analysis(df, df.columns[6], df.columns[13])\n",
    "\n",
    "heat_plot(df, df.columns[6], df.columns[13])"
   ]
  },
  {
   "cell_type": "code",
   "execution_count": null,
   "metadata": {},
   "outputs": [],
   "source": [
    "p = print_contingency_table(contingency_table)"
   ]
  },
  {
   "cell_type": "markdown",
   "metadata": {},
   "source": [
    "La relación entre estas variables es estadísticamente siginificativa."
   ]
  },
  {
   "cell_type": "markdown",
   "metadata": {},
   "source": [
    "## Planificación de responsabilidad social y cuidado de la empresa hacía sus trabajadores\n",
    "\n",
    "- Preguntas 4 y 2"
   ]
  },
  {
   "cell_type": "code",
   "execution_count": 43,
   "metadata": {},
   "outputs": [
    {
     "name": "stdout",
     "output_type": "stream",
     "text": [
      "7.-¿Planifican la responsabilidad social en la construcción de puentes? \n",
      " 12.-¿La empresa cuida la integridad física, mental y emocional de sus colaboradores?\n"
     ]
    }
   ],
   "source": [
    "print(df.columns[8],\"\\n\",df.columns[13])"
   ]
  },
  {
   "cell_type": "code",
   "execution_count": null,
   "metadata": {},
   "outputs": [],
   "source": [
    "contingency_table = contingency_table_analysis(df, df.columns[8], df.columns[13])\n",
    "\n",
    "heat_plot(df, df.columns[8], df.columns[13])"
   ]
  },
  {
   "cell_type": "code",
   "execution_count": null,
   "metadata": {},
   "outputs": [],
   "source": [
    "p = print_contingency_table(contingency_table)"
   ]
  },
  {
   "cell_type": "markdown",
   "metadata": {},
   "source": [
    "La relación entre estas variables es estadísticamente siginificativa."
   ]
  },
  {
   "cell_type": "markdown",
   "metadata": {},
   "source": [
    "## Presencia de cronograma para revisión el plan de seguridad social y percepción de aplicación del reglamento\n",
    "\n",
    "- Preguntas 8 y 13"
   ]
  },
  {
   "cell_type": "code",
   "execution_count": 44,
   "metadata": {},
   "outputs": [
    {
     "name": "stdout",
     "output_type": "stream",
     "text": [
      "8.- ¿Existe un cronograma para revisar y actualizar el plan o sistema de seguridad laboral con responsabilidad social? \n",
      " 13.-¿Piensa usted que se aplica en la construcción de puentes y vías el Reglamento de Seguridad y Salud de los Trabajadores con responsabilidad social?\n"
     ]
    }
   ],
   "source": [
    "print(df.columns[9],\"\\n\",df.columns[14])"
   ]
  },
  {
   "cell_type": "code",
   "execution_count": null,
   "metadata": {},
   "outputs": [],
   "source": [
    "contingency_table = contingency_table_analysis(df, df.columns[9], df.columns[14])\n",
    "\n",
    "heat_plot(df, df.columns[9], df.columns[14])"
   ]
  },
  {
   "cell_type": "code",
   "execution_count": null,
   "metadata": {},
   "outputs": [],
   "source": [
    "p = print_contingency_table(contingency_table)"
   ]
  },
  {
   "cell_type": "markdown",
   "metadata": {},
   "source": [
    "La relación entre estas variables es estadísticamente siginificativa."
   ]
  },
  {
   "cell_type": "markdown",
   "metadata": {},
   "source": [
    "## Mejora de prácticas y percepción de la aplicación de normas\n",
    "- Preguntas 9 y 13"
   ]
  },
  {
   "cell_type": "code",
   "execution_count": 45,
   "metadata": {},
   "outputs": [
    {
     "name": "stdout",
     "output_type": "stream",
     "text": [
      "9.- ¿La empresa ha realizado prácticas de mejoramiento en seguridad y salud laboral? \n",
      " 13.-¿Piensa usted que se aplica en la construcción de puentes y vías el Reglamento de Seguridad y Salud de los Trabajadores con responsabilidad social?\n"
     ]
    }
   ],
   "source": [
    "print(df.columns[10],\"\\n\",df.columns[14])"
   ]
  },
  {
   "cell_type": "code",
   "execution_count": null,
   "metadata": {},
   "outputs": [],
   "source": [
    "contingency_table = contingency_table_analysis(df, df.columns[10], df.columns[14])\n",
    "\n",
    "heat_plot(df, df.columns[10], df.columns[14])"
   ]
  },
  {
   "cell_type": "code",
   "execution_count": null,
   "metadata": {},
   "outputs": [],
   "source": [
    "p = print_contingency_table(contingency_table)"
   ]
  },
  {
   "cell_type": "markdown",
   "metadata": {},
   "source": [
    "La relación entre estas variables es estadísticamente siginificativa."
   ]
  },
  {
   "cell_type": "markdown",
   "metadata": {},
   "source": [
    "## Perceptción de la aplicación de normas y aplicación de normas\n",
    "- Preguntas 13 y 2"
   ]
  },
  {
   "cell_type": "code",
   "execution_count": 46,
   "metadata": {},
   "outputs": [
    {
     "name": "stdout",
     "output_type": "stream",
     "text": [
      "13.-¿Piensa usted que se aplica en la construcción de puentes y vías el Reglamento de Seguridad y Salud de los Trabajadores con responsabilidad social? \n",
      " 2.-¿La empresa aplica la responsabilidad social y ambiental con seguridad laboral en el proceso de la construcción de puentes y vías?\n"
     ]
    }
   ],
   "source": [
    "print(df.columns[14],\"\\n\",df.columns[3])"
   ]
  },
  {
   "cell_type": "code",
   "execution_count": null,
   "metadata": {},
   "outputs": [],
   "source": [
    "contingency_table = contingency_table_analysis(df, df.columns[14], df.columns[3])\n",
    "\n",
    "heat_plot(df, df.columns[14], df.columns[3])"
   ]
  },
  {
   "cell_type": "code",
   "execution_count": null,
   "metadata": {},
   "outputs": [],
   "source": [
    "p = print_contingency_table(contingency_table)"
   ]
  },
  {
   "cell_type": "markdown",
   "metadata": {},
   "source": [
    "La relación entre estas variables es estadísticamente siginificativa."
   ]
  }
 ],
 "metadata": {
  "kernelspec": {
   "display_name": "Python 3",
   "language": "python",
   "name": "python3"
  },
  "language_info": {
   "codemirror_mode": {
    "name": "ipython",
    "version": 3
   },
   "file_extension": ".py",
   "mimetype": "text/x-python",
   "name": "python",
   "nbconvert_exporter": "python",
   "pygments_lexer": "ipython3",
   "version": "3.9.0"
  }
 },
 "nbformat": 4,
 "nbformat_minor": 2
}
